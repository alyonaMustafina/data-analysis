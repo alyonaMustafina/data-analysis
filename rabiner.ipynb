{
 "cells": [
  {
   "cell_type": "code",
   "execution_count": 88,
   "metadata": {},
   "outputs": [],
   "source": [
    "def rabiner(sequence, matrixies, pi, states):    \n",
    "    for i in range(len(matrixies)):\n",
    "        matrix = matrixies[i]\n",
    "        alpha = [pi]\n",
    "        for state in sequence[1:]:\n",
    "            alpha_vec = [0]*len(states)\n",
    "            for j in range(len(states)):\n",
    "                if state:\n",
    "                    alpha_vec[states.index(state)] += alpha[-1][j] * matrix[j][states.index(state)]\n",
    "\n",
    "#                     alpha_vec[states.index(state)] += alpha[-1][j] * matrix[j][states.index(state)]\n",
    "                else:\n",
    "                    for s in states:\n",
    "#                         print(alpha[-1][j], matrix[j][states.index(s)], alpha[-1][j] * matrix[j][states.index(s)])\n",
    "                        alpha_vec[states.index(s)] += alpha[-1][j] * matrix[j][states.index(s)]\n",
    "#                         print(alpha_vec)\n",
    "#                     print(alpha_vec)\n",
    "            alpha.append(alpha_vec)\n",
    "        print(np.array(alpha))\n",
    "        result = sum(alpha[-1])\n",
    "        print('P = ', result)\n",
    "        print('\\n')"
   ]
  },
  {
   "cell_type": "code",
   "execution_count": 89,
   "metadata": {},
   "outputs": [
    {
     "name": "stdout",
     "output_type": "stream",
     "text": [
      "[[1.      0.      0.     ]\n",
      " [0.1     0.      0.     ]\n",
      " [0.      0.      0.04   ]\n",
      " [0.      0.004   0.     ]\n",
      " [0.      0.      0.0016 ]\n",
      " [0.00128 0.      0.     ]]\n",
      "P =  0.0012800000000000005\n",
      "\n",
      "\n",
      "[[1.   0.   0.  ]\n",
      " [0.1  0.   0.  ]\n",
      " [0.   0.   0.04]\n",
      " [0.   0.   0.  ]\n",
      " [0.   0.   0.  ]\n",
      " [0.   0.   0.  ]]\n",
      "P =  0.0\n",
      "\n",
      "\n",
      "[[1.       0.       0.      ]\n",
      " [0.5      0.       0.      ]\n",
      " [0.       0.       0.25    ]\n",
      " [0.       0.225    0.      ]\n",
      " [0.       0.       0.2025  ]\n",
      " [0.010125 0.       0.      ]]\n",
      "P =  0.010125000000000002\n",
      "\n",
      "\n",
      "[[1.         0.         0.        ]\n",
      " [0.33333333 0.         0.        ]\n",
      " [0.         0.         0.11111111]\n",
      " [0.         0.03703704 0.        ]\n",
      " [0.         0.         0.01234568]\n",
      " [0.00411523 0.         0.        ]]\n",
      "P =  0.004115226337448559\n",
      "\n",
      "\n"
     ]
    }
   ],
   "source": [
    "m1 = [[0.1, 0.5, 0.4], \n",
    "      [0.3, 0.3, 0.4], \n",
    "      [0.8, 0.1, 0.1]]\n",
    "\n",
    "m2 = [[0.1, 0.5, 0.4],\n",
    "     [0.3, 0.3, 0.4],\n",
    "     [0.8, 0, 0.2]]\n",
    "\n",
    "m3 = [[0.5, 0, 0.5],\n",
    "     [0.05, 0.05, 0.9],\n",
    "     [0.05, 0.9, 0.05]]\n",
    "\n",
    "m4 = [[1/3, 1/3, 1/3],\n",
    "     [1/3, 1/3, 1/3],\n",
    "     [1/3, 1/3, 1/3]]\n",
    "\n",
    "pi = [1, 0, 0]\n",
    "\n",
    "states = ['s1', 's2', 's3']\n",
    "\n",
    "sequence = ['s1', 's1', 's3', 's2', 's3', 's1']\n",
    "\n",
    "rabiner(sequence, [m1, m2, m3, m4], pi, states)"
   ]
  },
  {
   "cell_type": "code",
   "execution_count": 90,
   "metadata": {},
   "outputs": [],
   "source": [
    "P1 = [[1/3, 1/3, 1/3], \n",
    "      [0, 0.5, 0.5], \n",
    "      [0.5, 0, 0.5]]\n",
    "\n",
    "P2 = [[0, 1, 0],\n",
    "     [0, 0, 1],\n",
    "     [1, 0, 0]]\n",
    "\n",
    "pi = [1/3, 1/3, 1/3]\n",
    "\n",
    "states = ['s1', 's2', 's3']\n",
    "\n",
    "seq1 = ['s1', 's3', 's2', 's1']\n",
    "seq2 = ['s1', 's2', 's3', 's1']\n",
    "seq3 = ['s1', 's3', 's1', 's3']\n",
    "\n",
    "seq4 = ['s1', 's3', 's3', 's1']\n",
    "seq5 = ['s1', None, 's3', None]\n",
    "seq6 = [None, 's2', 's3', None]\n",
    "\n",
    "seq7 = [None, 's2', 's2', 's1']\n",
    "seq8 = [None, None, 's2', 's1']\n"
   ]
  },
  {
   "cell_type": "code",
   "execution_count": 99,
   "metadata": {},
   "outputs": [
    {
     "name": "stdout",
     "output_type": "stream",
     "text": [
      "[[0.33333333 0.         0.        ]\n",
      " [0.         0.         0.11111111]\n",
      " [0.         0.         0.        ]\n",
      " [0.         0.         0.        ]]\n",
      "P =  0.0\n",
      "\n",
      "\n",
      "[[0.33333333 0.         0.        ]\n",
      " [0.         0.         0.        ]\n",
      " [0.         0.         0.        ]\n",
      " [0.         0.         0.        ]]\n",
      "P =  0.0\n",
      "\n",
      "\n"
     ]
    }
   ],
   "source": [
    "pi = [1/3, 0, 0]\n",
    "rabiner(seq1, [P1, P2], pi, states)"
   ]
  },
  {
   "cell_type": "code",
   "execution_count": 100,
   "metadata": {},
   "outputs": [
    {
     "name": "stdout",
     "output_type": "stream",
     "text": [
      "[[0.33333333 0.         0.        ]\n",
      " [0.         0.11111111 0.        ]\n",
      " [0.         0.         0.05555556]\n",
      " [0.02777778 0.         0.        ]]\n",
      "P =  0.027777777777777776\n",
      "\n",
      "\n",
      "[[0.33333333 0.         0.        ]\n",
      " [0.         0.33333333 0.        ]\n",
      " [0.         0.         0.33333333]\n",
      " [0.33333333 0.         0.        ]]\n",
      "P =  0.3333333333333333\n",
      "\n",
      "\n"
     ]
    }
   ],
   "source": [
    "pi = [1/3, 0, 0]\n",
    "rabiner(seq2, [P1, P2], pi, states)"
   ]
  },
  {
   "cell_type": "code",
   "execution_count": 101,
   "metadata": {},
   "outputs": [
    {
     "name": "stdout",
     "output_type": "stream",
     "text": [
      "[[0.33333333 0.         0.        ]\n",
      " [0.         0.         0.11111111]\n",
      " [0.05555556 0.         0.        ]\n",
      " [0.         0.         0.01851852]]\n",
      "P =  0.018518518518518517\n",
      "\n",
      "\n",
      "[[0.33333333 0.         0.        ]\n",
      " [0.         0.         0.        ]\n",
      " [0.         0.         0.        ]\n",
      " [0.         0.         0.        ]]\n",
      "P =  0.0\n",
      "\n",
      "\n"
     ]
    }
   ],
   "source": [
    "pi = [1/3, 0, 0]\n",
    "rabiner(seq3, [P1, P2], pi, states)"
   ]
  },
  {
   "cell_type": "code",
   "execution_count": 102,
   "metadata": {},
   "outputs": [
    {
     "name": "stdout",
     "output_type": "stream",
     "text": [
      "[[0.33333333 0.         0.        ]\n",
      " [0.         0.         0.11111111]\n",
      " [0.         0.         0.05555556]\n",
      " [0.02777778 0.         0.        ]]\n",
      "P =  0.027777777777777776\n",
      "\n",
      "\n",
      "[[0.33333333 0.         0.        ]\n",
      " [0.         0.         0.        ]\n",
      " [0.         0.         0.        ]\n",
      " [0.         0.         0.        ]]\n",
      "P =  0.0\n",
      "\n",
      "\n"
     ]
    }
   ],
   "source": [
    "pi = [1/3, 0, 0]\n",
    "rabiner(seq4, [P1, P2], pi, states)"
   ]
  },
  {
   "cell_type": "code",
   "execution_count": 103,
   "metadata": {},
   "outputs": [
    {
     "name": "stdout",
     "output_type": "stream",
     "text": [
      "[[0.33333333 0.         0.        ]\n",
      " [0.11111111 0.11111111 0.11111111]\n",
      " [0.         0.         0.14814815]\n",
      " [0.07407407 0.         0.07407407]]\n",
      "P =  0.14814814814814814\n",
      "\n",
      "\n",
      "[[0.33333333 0.         0.        ]\n",
      " [0.         0.33333333 0.        ]\n",
      " [0.         0.         0.33333333]\n",
      " [0.33333333 0.         0.        ]]\n",
      "P =  0.3333333333333333\n",
      "\n",
      "\n"
     ]
    }
   ],
   "source": [
    "pi = [1/3, 0, 0]\n",
    "rabiner(seq5, [P1, P2], pi, states)"
   ]
  },
  {
   "cell_type": "code",
   "execution_count": 104,
   "metadata": {},
   "outputs": [
    {
     "name": "stdout",
     "output_type": "stream",
     "text": [
      "[[0.33333333 0.33333333 0.33333333]\n",
      " [0.         0.27777778 0.        ]\n",
      " [0.         0.         0.13888889]\n",
      " [0.06944444 0.         0.06944444]]\n",
      "P =  0.1388888888888889\n",
      "\n",
      "\n",
      "[[0.33333333 0.33333333 0.33333333]\n",
      " [0.         0.33333333 0.        ]\n",
      " [0.         0.         0.33333333]\n",
      " [0.33333333 0.         0.        ]]\n",
      "P =  0.3333333333333333\n",
      "\n",
      "\n"
     ]
    }
   ],
   "source": [
    "pi = [1/3, 1/3, 1/3]\n",
    "rabiner(seq6, [P1, P2], pi, states)"
   ]
  },
  {
   "cell_type": "code",
   "execution_count": 105,
   "metadata": {},
   "outputs": [
    {
     "name": "stdout",
     "output_type": "stream",
     "text": [
      "[[0.33333333 0.33333333 0.33333333]\n",
      " [0.         0.27777778 0.        ]\n",
      " [0.         0.13888889 0.        ]\n",
      " [0.         0.         0.        ]]\n",
      "P =  0.0\n",
      "\n",
      "\n",
      "[[0.33333333 0.33333333 0.33333333]\n",
      " [0.         0.33333333 0.        ]\n",
      " [0.         0.         0.        ]\n",
      " [0.         0.         0.        ]]\n",
      "P =  0.0\n",
      "\n",
      "\n"
     ]
    }
   ],
   "source": [
    "pi = [1/3, 1/3, 1/3]\n",
    "rabiner(seq7, [P1, P2], pi, states)"
   ]
  },
  {
   "cell_type": "code",
   "execution_count": 106,
   "metadata": {},
   "outputs": [
    {
     "name": "stdout",
     "output_type": "stream",
     "text": [
      "[[0.33333333 0.33333333 0.33333333]\n",
      " [0.27777778 0.27777778 0.44444444]\n",
      " [0.         0.23148148 0.        ]\n",
      " [0.         0.         0.        ]]\n",
      "P =  0.0\n",
      "\n",
      "\n",
      "[[0.33333333 0.33333333 0.33333333]\n",
      " [0.33333333 0.33333333 0.33333333]\n",
      " [0.         0.33333333 0.        ]\n",
      " [0.         0.         0.        ]]\n",
      "P =  0.0\n",
      "\n",
      "\n"
     ]
    }
   ],
   "source": [
    "pi = [1/3, 1/3, 1/3]\n",
    "rabiner(seq8, [P1, P2], pi, states)"
   ]
  },
  {
   "cell_type": "code",
   "execution_count": null,
   "metadata": {},
   "outputs": [],
   "source": []
  }
 ],
 "metadata": {
  "kernelspec": {
   "display_name": "Python 3",
   "language": "python",
   "name": "python3"
  },
  "language_info": {
   "codemirror_mode": {
    "name": "ipython",
    "version": 3
   },
   "file_extension": ".py",
   "mimetype": "text/x-python",
   "name": "python",
   "nbconvert_exporter": "python",
   "pygments_lexer": "ipython3",
   "version": "3.6.6"
  }
 },
 "nbformat": 4,
 "nbformat_minor": 4
}
